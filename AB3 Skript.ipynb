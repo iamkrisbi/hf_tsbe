{
 "cells": [
  {
   "cell_type": "markdown",
   "metadata": {},
   "source": [
    "# PAD Arbeitsblatt 3"
   ]
  },
  {
   "cell_type": "markdown",
   "metadata": {},
   "source": [
    "## Eingabe und Ausgabe"
   ]
  },
  {
   "cell_type": "markdown",
   "metadata": {},
   "source": [
    "### Beispiel Rumpelstilzchen\n",
    "Die Eingabe wurde angepasst für die Verwendung im Notebook  \n",
    "Original C# Code:  \n",
    "```C#\n",
    "    Console.WriteLine(\"Errate meinen Namen\");\n",
    "    geraten = Console.ReadLine();\n",
    "```\n",
    "\n",
    "Notebook C# Code:  \n",
    "```C#\n",
    "    geraten = await Kernel.GetInputAsync(\"Errate meinen Namen\");\n",
    "```\n"
   ]
  },
  {
   "cell_type": "code",
   "execution_count": null,
   "metadata": {
    "dotnet_interactive": {
     "language": "csharp"
    },
    "polyglot_notebook": {
     "kernelName": "csharp"
    }
   },
   "outputs": [],
   "source": [
    "using Microsoft.DotNet.Interactive;  // Notwendig für Notebook\n",
    "string meinName;\n",
    "string geraten;\n",
    "meinName = \"Rumpelstilzchen\";\n",
    "do\n",
    "{\n",
    "    geraten = await Kernel.GetInputAsync(\"Errate meinen Namen\");\n",
    "}\n",
    "while (meinName != geraten);\n",
    "Console.WriteLine(\"Das hat dir der Teufel gesagt\");"
   ]
  },
  {
   "cell_type": "markdown",
   "metadata": {},
   "source": [
    "### Eingabe Text (Variante Notebook)\n",
    "Statt `Console.ReadLine()` wird folgender Code verwendet. Das `using..` ist absolut notwendig."
   ]
  },
  {
   "cell_type": "code",
   "execution_count": null,
   "metadata": {
    "dotnet_interactive": {
     "language": "csharp"
    },
    "polyglot_notebook": {
     "kernelName": "csharp"
    }
   },
   "outputs": [],
   "source": [
    "using Microsoft.DotNet.Interactive;  // Notwendig für Notebook\n",
    "string text;\n",
    "text = await Kernel.GetInputAsync(\"Bitte Text eingeben\");\n"
   ]
  },
  {
   "cell_type": "markdown",
   "metadata": {},
   "source": [
    "### Eingabe Zahl (Variante Notebook)\n",
    "Der eingegebene `String` wird **explizit** in eine Ganzzahl umgewandelt. Die Umwandlung kann einen **Lauszeitfehler** erzeugen."
   ]
  },
  {
   "cell_type": "code",
   "execution_count": null,
   "metadata": {
    "dotnet_interactive": {
     "language": "csharp"
    },
    "polyglot_notebook": {
     "kernelName": "csharp"
    }
   },
   "outputs": [],
   "source": [
    "int ganzzahl = int.Parse(await Kernel.GetInputAsync((\"Bitte Zahl eingeben\")));\n",
    "Console.WriteLine(ganzzahl);"
   ]
  },
  {
   "cell_type": "markdown",
   "metadata": {},
   "source": [
    "### Eingabe Zahl (Variante Notebook) mit sicherer Umwandlung\n",
    "Der eingegebene `String` wird mittels `TryParse` umgewandelt. Das Resultat ist 0, wenn keine Zahl eingegeben wird."
   ]
  },
  {
   "cell_type": "code",
   "execution_count": null,
   "metadata": {
    "dotnet_interactive": {
     "language": "csharp"
    },
    "polyglot_notebook": {
     "kernelName": "csharp"
    }
   },
   "outputs": [],
   "source": [
    "int ganzzahl;\n",
    "int.TryParse(await Kernel.GetInputAsync((\"Bitte Zahl eingeben\")), out ganzzahl);\n",
    "// Anstelle von Console.WriteLine(ganzzahl); kann einfach die Variable ans Ende gestellt werden. Diese ist eine Funktionalität von Notebook!\n",
    "ganzzahl"
   ]
  },
  {
   "cell_type": "markdown",
   "metadata": {},
   "source": [
    "## Eingabe und Ausgabe Übungen"
   ]
  },
  {
   "cell_type": "markdown",
   "metadata": {},
   "source": [
    "### Übung 1\n",
    "Wandeln Sie eine Eingabe in eine Kommazahl um!"
   ]
  },
  {
   "cell_type": "code",
   "execution_count": null,
   "metadata": {
    "dotnet_interactive": {
     "language": "csharp"
    },
    "polyglot_notebook": {
     "kernelName": "csharp"
    }
   },
   "outputs": [],
   "source": []
  },
  {
   "cell_type": "markdown",
   "metadata": {},
   "source": [
    "### Übung 2\n",
    "Wandeln Sie eine Kommazahl in einen String um, es sollen immer 2 Nachkommastellen angezeigt werden!  \n",
    "Bsp: `Zahl = 3.5 String = \"3.50\"`"
   ]
  },
  {
   "cell_type": "code",
   "execution_count": null,
   "metadata": {
    "dotnet_interactive": {
     "language": "csharp"
    },
    "polyglot_notebook": {
     "kernelName": "csharp"
    }
   },
   "outputs": [],
   "source": []
  },
  {
   "cell_type": "markdown",
   "metadata": {},
   "source": [
    "### Übung 3\n",
    "Wandeln Sie eine Kommazahl in einen String um, es sollen immer die exakte Anzahl Nachkommastellen angezeigt werden!  \n",
    "Bsp: `Zahl = 3.5 String = \"3.5\"`"
   ]
  },
  {
   "cell_type": "code",
   "execution_count": null,
   "metadata": {
    "dotnet_interactive": {
     "language": "csharp"
    },
    "polyglot_notebook": {
     "kernelName": "csharp"
    }
   },
   "outputs": [],
   "source": []
  },
  {
   "cell_type": "markdown",
   "metadata": {},
   "source": [
    "## Kontrollstrukturen"
   ]
  },
  {
   "cell_type": "markdown",
   "metadata": {},
   "source": [
    "### If then else"
   ]
  },
  {
   "cell_type": "code",
   "execution_count": 1,
   "metadata": {
    "dotnet_interactive": {
     "language": "csharp"
    },
    "polyglot_notebook": {
     "kernelName": "csharp"
    }
   },
   "outputs": [
    {
     "name": "stdout",
     "output_type": "stream",
     "text": [
      "a ist grösser\n"
     ]
    }
   ],
   "source": [
    "int a = 10, b = 20;\n",
    "if (a < b)\n",
    "{\n",
    "    Console.WriteLine(\"a ist grösser\");\n",
    "} else {\n",
    "    Console.WriteLine(\"a ist nicht grösser\");\n",
    "}"
   ]
  },
  {
   "cell_type": "markdown",
   "metadata": {},
   "source": [
    "### else if\n",
    "mit Default Bedingung am Ende"
   ]
  },
  {
   "cell_type": "code",
   "execution_count": null,
   "metadata": {
    "dotnet_interactive": {
     "language": "csharp"
    },
    "polyglot_notebook": {
     "kernelName": "csharp"
    }
   },
   "outputs": [],
   "source": [
    "string eingabe = \"pause\";\n",
    "if (eingabe == \"start\")\n",
    "{\n",
    "    Console.WriteLine(\"Programm gestartet\");\n",
    "} else if (eingabe == \"pause\") {\n",
    "    Console.WriteLine(\"Programm pausiert\");\n",
    "} else if (eingabe == \"weiter\") {\n",
    "    Console.WriteLine(\"Programm fährt weiter\");\n",
    "} else if (eingabe == \"stopp\") {\n",
    "    Console.WriteLine(\"Programm gestoppt\");\n",
    "} else {\n",
    "    Console.WriteLine(\"Eingabe ungültig\");\n",
    "}"
   ]
  },
  {
   "cell_type": "markdown",
   "metadata": {},
   "source": [
    "### Kopfgesteuerte Schleife mit while"
   ]
  },
  {
   "cell_type": "code",
   "execution_count": null,
   "metadata": {
    "dotnet_interactive": {
     "language": "csharp"
    },
    "polyglot_notebook": {
     "kernelName": "csharp"
    }
   },
   "outputs": [],
   "source": [
    "string text = \"Hier wird das erste Wort gesucht\";\n",
    "int position = 0;\n",
    "while (text.Substring(position, 1) != \" \")\n",
    "{\n",
    "    Console.Write(text.Substring(position, 1));\n",
    "    position++;\n",
    "}"
   ]
  },
  {
   "cell_type": "markdown",
   "metadata": {},
   "source": [
    "### Fussgesteuerte Schleife mit while"
   ]
  },
  {
   "cell_type": "code",
   "execution_count": null,
   "metadata": {
    "dotnet_interactive": {
     "language": "csharp"
    },
    "polyglot_notebook": {
     "kernelName": "csharp"
    }
   },
   "outputs": [],
   "source": [
    "using Microsoft.DotNet.Interactive;  // Notwendig für Notebook\n",
    "string eingabe;\n",
    "do\n",
    "{\n",
    "    // MacheBerechnung();\n",
    "    eingabe = await Kernel.GetInputAsync(\"Nochmals berechnen? (j/n)\");    \n",
    "} while (eingabe != \"n\");"
   ]
  },
  {
   "cell_type": "markdown",
   "metadata": {},
   "source": [
    "### For Schleife"
   ]
  },
  {
   "cell_type": "code",
   "execution_count": 2,
   "metadata": {
    "dotnet_interactive": {
     "language": "csharp"
    },
    "polyglot_notebook": {
     "kernelName": "csharp"
    }
   },
   "outputs": [
    {
     "name": "stdout",
     "output_type": "stream",
     "text": [
      "Die Quadratzahl von 0 beträgt 0\n",
      "Die Quadratzahl von 1 beträgt 1\n",
      "Die Quadratzahl von 2 beträgt 4\n",
      "Die Quadratzahl von 3 beträgt 9\n"
     ]
    }
   ],
   "source": [
    "for (int i = 0; i < 4; i++)\n",
    "{\n",
    "    Console.WriteLine(\"Die Quadratzahl von {0} beträgt {1}\", i, i*i);\n",
    "}"
   ]
  },
  {
   "cell_type": "markdown",
   "metadata": {},
   "source": [
    "## Kontrollstrukturen Übungen"
   ]
  },
  {
   "cell_type": "markdown",
   "metadata": {},
   "source": [
    "### Übung 4 if then else\n",
    "Geben Sie an, ob die Klimaanlage heizen, kühlen oder nichts machen soll!"
   ]
  },
  {
   "cell_type": "code",
   "execution_count": 22,
   "metadata": {
    "dotnet_interactive": {
     "language": "csharp"
    },
    "polyglot_notebook": {
     "kernelName": "csharp"
    }
   },
   "outputs": [],
   "source": [
    "using Microsoft.DotNet.Interactive;  // Notwendig für Notebook\n",
    "double aktuelleTemperatur = 19.5;\n",
    "double gewünschteTemperatur = double.Parse(await Kernel.GetInputAsync(\"Bitte gewünschte Temperatur eingeben\"));\n",
    "// Hier Code weiterfahren"
   ]
  },
  {
   "cell_type": "markdown",
   "metadata": {},
   "source": [
    "### Übung 5 `for` Schleife\n",
    "Erstellen Sie eine Schleife, welche von 1-20 zählt."
   ]
  },
  {
   "cell_type": "code",
   "execution_count": null,
   "metadata": {
    "dotnet_interactive": {
     "language": "csharp"
    },
    "polyglot_notebook": {
     "kernelName": "csharp"
    }
   },
   "outputs": [],
   "source": []
  },
  {
   "cell_type": "markdown",
   "metadata": {},
   "source": [
    "### Übung 6 `for` Schleife\n",
    "Erstellen Sie eine Schleife, welche in 5er Schritten von 0 - 100 zählt!"
   ]
  },
  {
   "cell_type": "code",
   "execution_count": null,
   "metadata": {
    "dotnet_interactive": {
     "language": "csharp"
    },
    "polyglot_notebook": {
     "kernelName": "csharp"
    }
   },
   "outputs": [],
   "source": []
  },
  {
   "cell_type": "markdown",
   "metadata": {},
   "source": [
    "### Übung 7 Kopf- oder Fussgesteuerte Schleife?\n",
    "Erstellen Sie ein Programm, welches die Quadratzahl berechnet. Es fängt bei 1 an und der Benutzer wird nach jeder Berechnung gefagt, ob er noch eine weitere Zahl berechnen möchte."
   ]
  },
  {
   "cell_type": "code",
   "execution_count": null,
   "metadata": {
    "dotnet_interactive": {
     "language": "csharp"
    },
    "polyglot_notebook": {
     "kernelName": "csharp"
    }
   },
   "outputs": [],
   "source": []
  },
  {
   "cell_type": "markdown",
   "metadata": {},
   "source": [
    "### Übung 8 diverse Kontrollstrukturen\n",
    "Bauen Sie das Programm aus Übung 5 so um, dass es nach der Ausgabe von 20 den Benutzer fragt, ob er weiter machen möchte. Falls er ja sagt, zählt das Programm von 21 - 40 und so weiter, bis der Benutzer nicht mehr weitermachen will."
   ]
  },
  {
   "cell_type": "code",
   "execution_count": null,
   "metadata": {
    "dotnet_interactive": {
     "language": "csharp"
    },
    "polyglot_notebook": {
     "kernelName": "csharp"
    }
   },
   "outputs": [],
   "source": []
  }
 ],
 "metadata": {
  "kernelspec": {
   "display_name": ".NET (C#)",
   "language": "C#",
   "name": ".net-csharp"
  },
  "language_info": {
   "name": "polyglot-notebook"
  },
  "polyglot_notebook": {
   "kernelInfo": {
    "defaultKernelName": "csharp",
    "items": [
     {
      "aliases": [],
      "languageName": "csharp",
      "name": "csharp"
     }
    ]
   }
  }
 },
 "nbformat": 4,
 "nbformat_minor": 2
}
